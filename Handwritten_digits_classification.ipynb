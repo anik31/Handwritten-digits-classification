{
  "nbformat": 4,
  "nbformat_minor": 0,
  "metadata": {
    "colab": {
      "name": "Handwritten digits classification.ipynb",
      "provenance": [],
      "authorship_tag": "ABX9TyOyIW+mxK44tCnSEvJ692rE",
      "include_colab_link": true
    },
    "kernelspec": {
      "name": "python3",
      "display_name": "Python 3"
    }
  },
  "cells": [
    {
      "cell_type": "markdown",
      "metadata": {
        "id": "view-in-github",
        "colab_type": "text"
      },
      "source": [
        "<a href=\"https://colab.research.google.com/github/anik31/Handwritten-digits-classification/blob/master/Handwritten_digits_classification.ipynb\" target=\"_parent\"><img src=\"https://colab.research.google.com/assets/colab-badge.svg\" alt=\"Open In Colab\"/></a>"
      ]
    },
    {
      "cell_type": "code",
      "metadata": {
        "id": "mPtIuf0-NAwj",
        "colab_type": "code",
        "colab": {}
      },
      "source": [
        "import numpy as np\n",
        "import matplotlib.pyplot as plt\n",
        "\n",
        "import keras\n",
        "from keras.datasets import mnist\n",
        "\n",
        "from keras.models import Sequential\n",
        "from keras.layers import Dense\n",
        "\n",
        "from keras.utils import to_categorical\n",
        "\n",
        "from keras.preprocessing import image"
      ],
      "execution_count": 0,
      "outputs": []
    },
    {
      "cell_type": "code",
      "metadata": {
        "id": "l1ai_csXNZHQ",
        "colab_type": "code",
        "colab": {
          "base_uri": "https://localhost:8080/",
          "height": 54
        },
        "outputId": "530b0855-5a04-437c-e670-b4f3a991ca38"
      },
      "source": [
        "(x_train, y_train), (x_test, y_test)=mnist.load_data()\n"
      ],
      "execution_count": 3,
      "outputs": [
        {
          "output_type": "stream",
          "text": [
            "Downloading data from https://s3.amazonaws.com/img-datasets/mnist.npz\n",
            "11493376/11490434 [==============================] - 0s 0us/step\n"
          ],
          "name": "stdout"
        }
      ]
    },
    {
      "cell_type": "code",
      "metadata": {
        "id": "IQLYRfJ_Njcc",
        "colab_type": "code",
        "colab": {}
      },
      "source": [
        "def plot_img(img):\n",
        "  plt.imshow(img.reshape(28,28), cmap='gray')"
      ],
      "execution_count": 0,
      "outputs": []
    },
    {
      "cell_type": "code",
      "metadata": {
        "id": "XIcUzOalNojS",
        "colab_type": "code",
        "colab": {
          "base_uri": "https://localhost:8080/",
          "height": 283
        },
        "outputId": "b4f5ca56-9410-4dc6-e7b2-fef56a667e14"
      },
      "source": [
        "plot_img(x_train[108])\n",
        "print('image is:',y_train[108])"
      ],
      "execution_count": 5,
      "outputs": [
        {
          "output_type": "stream",
          "text": [
            "image is: 0\n"
          ],
          "name": "stdout"
        },
        {
          "output_type": "display_data",
          "data": {
            "image/png": "[encoded data removed]",
            "text/plain": [
              "<Figure size 432x288 with 1 Axes>"
            ]
          },
          "metadata": {
            "tags": [],
            "needs_background": "light"
          }
        }
      ]
    },
    {
      "cell_type": "markdown",
      "metadata": {
        "id": "aSi52f1hNvIY",
        "colab_type": "text"
      },
      "source": [
        "###Model Building\n"
      ]
    },
    {
      "cell_type": "code",
      "metadata": {
        "id": "7RKBQCEANsXh",
        "colab_type": "code",
        "colab": {
          "base_uri": "https://localhost:8080/",
          "height": 35
        },
        "outputId": "f7e21af2-3d62-4b95-b25e-b485bc933b32"
      },
      "source": [
        "x_train.shape"
      ],
      "execution_count": 6,
      "outputs": [
        {
          "output_type": "execute_result",
          "data": {
            "text/plain": [
              "(60000, 28, 28)"
            ]
          },
          "metadata": {
            "tags": []
          },
          "execution_count": 6
        }
      ]
    },
    {
      "cell_type": "code",
      "metadata": {
        "id": "UH0rw5c2O-y-",
        "colab_type": "code",
        "colab": {}
      },
      "source": [
        "x_train = x_train.reshape(60000,784)\n",
        "x_test = x_test.reshape(10000,784)"
      ],
      "execution_count": 0,
      "outputs": []
    },
    {
      "cell_type": "code",
      "metadata": {
        "id": "6KZKZQnKPJzm",
        "colab_type": "code",
        "colab": {}
      },
      "source": [
        "model = Sequential()\n",
        "model.add(Dense(units=32, activation='relu',input_shape=(784,)))\n",
        "model.add(Dense(units=64, activation='relu'))\n",
        "model.add(Dense(units=128, activation='relu'))\n",
        "model.add(Dense(units=32, activation='relu'))\n",
        "model.add(Dense(units=10, activation='softmax'))"
      ],
      "execution_count": 0,
      "outputs": []
    },
    {
      "cell_type": "code",
      "metadata": {
        "id": "tQ4BZWpVR1_G",
        "colab_type": "code",
        "colab": {
          "base_uri": "https://localhost:8080/",
          "height": 348
        },
        "outputId": "2771a6bc-a5aa-4d66-f7c5-db86d1228391"
      },
      "source": [
        "model.summary()"
      ],
      "execution_count": 12,
      "outputs": [
        {
          "output_type": "stream",
          "text": [
            "Model: \"sequential_1\"\n",
            "_________________________________________________________________\n",
            "Layer (type)                 Output Shape              Param #   \n",
            "=================================================================\n",
            "dense_1 (Dense)              (None, 32)                25120     \n",
            "_________________________________________________________________\n",
            "dense_2 (Dense)              (None, 64)                2112      \n",
            "_________________________________________________________________\n",
            "dense_3 (Dense)              (None, 128)               8320      \n",
            "_________________________________________________________________\n",
            "dense_4 (Dense)              (None, 32)                4128      \n",
            "_________________________________________________________________\n",
            "dense_5 (Dense)              (None, 10)                330       \n",
            "=================================================================\n",
            "Total params: 40,010\n",
            "Trainable params: 40,010\n",
            "Non-trainable params: 0\n",
            "_________________________________________________________________\n"
          ],
          "name": "stdout"
        }
      ]
    },
    {
      "cell_type": "code",
      "metadata": {
        "id": "Tz-V2LvnSCTT",
        "colab_type": "code",
        "colab": {}
      },
      "source": [
        "model.compile(optimizer='adam',loss='categorical_crossentropy',metrics=['accuracy'])"
      ],
      "execution_count": 0,
      "outputs": []
    },
    {
      "cell_type": "code",
      "metadata": {
        "id": "lSFpn1UZTfRd",
        "colab_type": "code",
        "colab": {}
      },
      "source": [
        "y_train= to_categorical(y_train)\n",
        "y_test= to_categorical(y_test)"
      ],
      "execution_count": 0,
      "outputs": []
    },
    {
      "cell_type": "code",
      "metadata": {
        "id": "k021rELLUK0X",
        "colab_type": "code",
        "colab": {
          "base_uri": "https://localhost:8080/",
          "height": 35
        },
        "outputId": "38dd27cc-41bd-4744-acff-5f126aa7ba0b"
      },
      "source": [
        "y_train.shape"
      ],
      "execution_count": 16,
      "outputs": [
        {
          "output_type": "execute_result",
          "data": {
            "text/plain": [
              "(60000, 10)"
            ]
          },
          "metadata": {
            "tags": []
          },
          "execution_count": 16
        }
      ]
    },
    {
      "cell_type": "code",
      "metadata": {
        "id": "PSTCug0yUOx_",
        "colab_type": "code",
        "colab": {
          "base_uri": "https://localhost:8080/",
          "height": 586
        },
        "outputId": "02837c77-5fc2-49d6-8983-ef4732d43369"
      },
      "source": [
        "hist = model.fit(x=x_train,y=y_train,batch_size=32,epochs=15,validation_data=(x_test,y_test))"
      ],
      "execution_count": 34,
      "outputs": [
        {
          "output_type": "stream",
          "text": [
            "Train on 60000 samples, validate on 10000 samples\n",
            "Epoch 1/15\n",
            "60000/60000 [==============================] - 3s 55us/step - loss: 0.0705 - accuracy: 0.9808 - val_loss: 0.1857 - val_accuracy: 0.9630\n",
            "Epoch 2/15\n",
            "60000/60000 [==============================] - 3s 53us/step - loss: 0.0623 - accuracy: 0.9823 - val_loss: 0.2223 - val_accuracy: 0.9659\n",
            "Epoch 3/15\n",
            "60000/60000 [==============================] - 3s 53us/step - loss: 0.0632 - accuracy: 0.9821 - val_loss: 0.2304 - val_accuracy: 0.9637\n",
            "Epoch 4/15\n",
            "60000/60000 [==============================] - 3s 53us/step - loss: 0.0557 - accuracy: 0.9833 - val_loss: 0.2193 - val_accuracy: 0.9641\n",
            "Epoch 5/15\n",
            "60000/60000 [==============================] - 3s 52us/step - loss: 0.0625 - accuracy: 0.9834 - val_loss: 0.2153 - val_accuracy: 0.9634\n",
            "Epoch 6/15\n",
            "60000/60000 [==============================] - 3s 53us/step - loss: 0.0606 - accuracy: 0.9831 - val_loss: 0.2368 - val_accuracy: 0.9629\n",
            "Epoch 7/15\n",
            "60000/60000 [==============================] - 3s 52us/step - loss: 0.0581 - accuracy: 0.9840 - val_loss: 0.2155 - val_accuracy: 0.9673\n",
            "Epoch 8/15\n",
            "60000/60000 [==============================] - 3s 54us/step - loss: 0.0578 - accuracy: 0.9840 - val_loss: 0.2009 - val_accuracy: 0.9673\n",
            "Epoch 9/15\n",
            "60000/60000 [==============================] - 3s 53us/step - loss: 0.0590 - accuracy: 0.9834 - val_loss: 0.2280 - val_accuracy: 0.9655\n",
            "Epoch 10/15\n",
            "60000/60000 [==============================] - 3s 53us/step - loss: 0.0543 - accuracy: 0.9847 - val_loss: 0.2216 - val_accuracy: 0.9662\n",
            "Epoch 11/15\n",
            "60000/60000 [==============================] - 3s 53us/step - loss: 0.0587 - accuracy: 0.9845 - val_loss: 0.2563 - val_accuracy: 0.9645\n",
            "Epoch 12/15\n",
            "60000/60000 [==============================] - 3s 53us/step - loss: 0.0583 - accuracy: 0.9844 - val_loss: 0.3017 - val_accuracy: 0.9611\n",
            "Epoch 13/15\n",
            "60000/60000 [==============================] - 3s 53us/step - loss: 0.0578 - accuracy: 0.9839 - val_loss: 0.3425 - val_accuracy: 0.9593\n",
            "Epoch 14/15\n",
            "60000/60000 [==============================] - 3s 53us/step - loss: 0.0599 - accuracy: 0.9840 - val_loss: 0.2106 - val_accuracy: 0.9652\n",
            "Epoch 15/15\n",
            "60000/60000 [==============================] - 3s 52us/step - loss: 0.0458 - accuracy: 0.9872 - val_loss: 0.3067 - val_accuracy: 0.9620\n"
          ],
          "name": "stdout"
        }
      ]
    },
    {
      "cell_type": "code",
      "metadata": {
        "id": "PC9bHhqOVSzX",
        "colab_type": "code",
        "colab": {
          "base_uri": "https://localhost:8080/",
          "height": 54
        },
        "outputId": "ff8b903a-06eb-4709-ee56-98b174743bb3"
      },
      "source": [
        "model.evaluate(x_test,y_test)"
      ],
      "execution_count": 35,
      "outputs": [
        {
          "output_type": "stream",
          "text": [
            "10000/10000 [==============================] - 0s 23us/step\n"
          ],
          "name": "stdout"
        },
        {
          "output_type": "execute_result",
          "data": {
            "text/plain": [
              "[0.306688052713049, 0.9620000123977661]"
            ]
          },
          "metadata": {
            "tags": []
          },
          "execution_count": 35
        }
      ]
    },
    {
      "cell_type": "code",
      "metadata": {
        "id": "G8tjJmVIV-fC",
        "colab_type": "code",
        "colab": {
          "base_uri": "https://localhost:8080/",
          "height": 265
        },
        "outputId": "b2623ce3-27b6-4e3a-8692-fde0f10cbde2"
      },
      "source": [
        "plot_img(x_test[5001])"
      ],
      "execution_count": 40,
      "outputs": [
        {
          "output_type": "display_data",
          "data": {
            "image/png": "[encoded data removed]",
            "text/plain": [
              "<Figure size 432x288 with 1 Axes>"
            ]
          },
          "metadata": {
            "tags": [],
            "needs_background": "light"
          }
        }
      ]
    },
    {
      "cell_type": "code",
      "metadata": {
        "id": "NbX0-cmQWXa5",
        "colab_type": "code",
        "colab": {}
      },
      "source": [
        "y_pred=model.predict_classes(x_test)"
      ],
      "execution_count": 0,
      "outputs": []
    },
    {
      "cell_type": "code",
      "metadata": {
        "id": "JkYyD6ZGWdMb",
        "colab_type": "code",
        "colab": {
          "base_uri": "https://localhost:8080/",
          "height": 35
        },
        "outputId": "17689916-e8a8-43a5-9051-698a827c7e9d"
      },
      "source": [
        "y_pred[5001]"
      ],
      "execution_count": 41,
      "outputs": [
        {
          "output_type": "execute_result",
          "data": {
            "text/plain": [
              "9"
            ]
          },
          "metadata": {
            "tags": []
          },
          "execution_count": 41
        }
      ]
    },
    {
      "cell_type": "code",
      "metadata": {
        "id": "KfwJzNWyXCkR",
        "colab_type": "code",
        "colab": {
          "base_uri": "https://localhost:8080/",
          "height": 35
        },
        "outputId": "440cb251-b690-487e-ce41-04ff481f4b0c"
      },
      "source": [
        "model.predict_classes(x_test[[5001]])"
      ],
      "execution_count": 42,
      "outputs": [
        {
          "output_type": "execute_result",
          "data": {
            "text/plain": [
              "array([9])"
            ]
          },
          "metadata": {
            "tags": []
          },
          "execution_count": 42
        }
      ]
    },
    {
      "cell_type": "code",
      "metadata": {
        "id": "6B729lgEXSqO",
        "colab_type": "code",
        "colab": {
          "base_uri": "https://localhost:8080/",
          "height": 54
        },
        "outputId": "b759fc6a-7f09-4451-8c91-441568775938"
      },
      "source": [
        "imag = image.load_img('new.png',grayscale=True,target_size=(28,28))\n",
        "imag= np.array(imag)\n",
        "imag=imag.reshape(1,784)\n",
        "\n",
        "prediction=model.predict_classes(imag)"
      ],
      "execution_count": 45,
      "outputs": [
        {
          "output_type": "stream",
          "text": [
            "/usr/local/lib/python3.6/dist-packages/keras_preprocessing/image/utils.py:107: UserWarning: grayscale is deprecated. Please use color_mode = \"grayscale\"\n",
            "  warnings.warn('grayscale is deprecated. Please use '\n"
          ],
          "name": "stderr"
        }
      ]
    },
    {
      "cell_type": "code",
      "metadata": {
        "id": "qrq4uARDYzKz",
        "colab_type": "code",
        "colab": {
          "base_uri": "https://localhost:8080/",
          "height": 35
        },
        "outputId": "7d59dd3c-eab8-4764-899b-0fe88b17a592"
      },
      "source": [
        "prediction"
      ],
      "execution_count": 46,
      "outputs": [
        {
          "output_type": "execute_result",
          "data": {
            "text/plain": [
              "array([6])"
            ]
          },
          "metadata": {
            "tags": []
          },
          "execution_count": 46
        }
      ]
    },
    {
      "cell_type": "code",
      "metadata": {
        "id": "05C7W5CuZDjZ",
        "colab_type": "code",
        "colab": {
          "base_uri": "https://localhost:8080/",
          "height": 265
        },
        "outputId": "9c31ed35-9b86-441a-9bf6-a1ad6fe2514e"
      },
      "source": [
        "plot_img(imag)"
      ],
      "execution_count": 49,
      "outputs": [
        {
          "output_type": "display_data",
          "data": {
            "image/png": "[encoded data removed]",
            "text/plain": [
              "<Figure size 432x288 with 1 Axes>"
            ]
          },
          "metadata": {
            "tags": [],
            "needs_background": "light"
          }
        }
      ]
    },
    {
      "cell_type": "code",
      "metadata": {
        "id": "AMzeAVXXcq-d",
        "colab_type": "code",
        "colab": {}
      },
      "source": [
        ""
      ],
      "execution_count": 0,
      "outputs": []
    }
  ]
}